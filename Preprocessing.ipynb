{
 "cells": [
  {
   "cell_type": "code",
   "execution_count": 1,
   "metadata": {},
   "outputs": [],
   "source": [
    "import pandas as pd\n",
    "from nltk.stem import PorterStemmer\n",
    "from nltk.corpus import stopwords\n",
    "from nltk.tokenize import word_tokenize\n",
    "import string"
   ]
  },
  {
   "cell_type": "code",
   "execution_count": 2,
   "metadata": {},
   "outputs": [],
   "source": [
    "column_name = ['ID' , 'Trust_value' , 'Statement' , 'Subject' , 'Speaker',\n",
    "               'Speaker_Job' , 'State_Info' , 'Party_Affiliation' , \n",
    "               'Barely_True_Count' , 'False_Count' , 'Half_True_Count' , 'Mostly_True_Count' ,\n",
    "               'Pants_On_Fire_Count' , 'Context']"
   ]
  },
  {
   "cell_type": "code",
   "execution_count": 3,
   "metadata": {},
   "outputs": [],
   "source": [
    "train_tsv = pd.read_csv('./Dataset/Liar/train.tsv' , sep = '\\t' , names = column_name)\n",
    "test_tsv = pd.read_csv('./Dataset/Liar/test.tsv' , sep = '\\t' , names = column_name)"
   ]
  },
  {
   "cell_type": "code",
   "execution_count": 4,
   "metadata": {},
   "outputs": [],
   "source": [
    "ps = PorterStemmer()"
   ]
  },
  {
   "cell_type": "code",
   "execution_count": 5,
   "metadata": {
    "scrolled": true
   },
   "outputs": [],
   "source": [
    "#train data\n",
    "train_tsv['Statement'] = train_tsv['Statement'].str.lower() # turn into lower\n",
    "train_tsv['Statement'] = train_tsv['Statement'].str.replace('[^\\w\\s]' ,'') #remove punctuation\n",
    "train_tsv['Statement'] = train_tsv['Statement'].str.replace('\\d+' , '') #remove numbers\n",
    "\n",
    "#test data\n",
    "test_tsv['Statement'] = test_tsv['Statement'].str.lower() # turn into lower\n",
    "test_tsv['Statement'] = test_tsv['Statement'].str.replace('[^\\w\\s]' ,'') #remove punctuation\n",
    "test_tsv['Statement'] = test_tsv['Statement'].str.replace('\\d+' , '') #remove numbers"
   ]
  },
  {
   "cell_type": "code",
   "execution_count": 6,
   "metadata": {},
   "outputs": [],
   "source": [
    "stop = stopwords.words('english')\n",
    "\n",
    "pat = r'\\b(?:{})\\b'.format('|'.join(stop))\n",
    "\n",
    "train_tsv['Statement'] = train_tsv['Statement'].str.replace(pat , '')\n",
    "test_tsv['Statement'] = test_tsv['Statement'].str.replace(pat , '')"
   ]
  },
  {
   "cell_type": "code",
   "execution_count": 7,
   "metadata": {
    "scrolled": true
   },
   "outputs": [],
   "source": [
    "ps = PorterStemmer()\n",
    "#porter stemming\n",
    "def stem_sentences(sentence):\n",
    "    stemmed_tokens = [ps.stem(token) for token in sentence]\n",
    "    return ' '.join(stemmed_tokens)\n",
    "\n",
    "train_tsv['Statement'] = train_tsv['Statement'].apply(stem_sentences)\n",
    "test_tsv['Statement'] = test_tsv['Statement'].apply(stem_sentences)"
   ]
  },
  {
   "cell_type": "code",
   "execution_count": 8,
   "metadata": {},
   "outputs": [],
   "source": [
    "train_tsv['Statement'] = train_tsv.apply(lambda row : word_tokenize(row['Statement']), axis = 1)\n",
    "test_tsv['Statement'] = test_tsv.apply(lambda row : word_tokenize(row['Statement']), axis = 1)"
   ]
  },
  {
   "cell_type": "code",
   "execution_count": 9,
   "metadata": {},
   "outputs": [],
   "source": [
    "Trust_Score= {'true' : 1 , 'mostly-true' : 0.8 , 'half-true' : 0.5 , 'barely-true':0.3 , 'false' : 0.1 , 'pants-fire': 0}\n",
    "train_tsv['Trust_Score'] = train_tsv['Trust_value'].map(Trust_Score)\n",
    "test_tsv['Trust_Score'] = test_tsv['Trust_value'].map(Trust_Score)"
   ]
  },
  {
   "cell_type": "code",
   "execution_count": 10,
   "metadata": {},
   "outputs": [],
   "source": [
    "train_tsv.to_csv('./Dataset/Liar/Preprocessed_train.csv')\n",
    "test_tsv.to_csv('./Dataset/Liar/Preprocessed_test.csv')"
   ]
  },
  {
   "cell_type": "code",
   "execution_count": null,
   "metadata": {},
   "outputs": [],
   "source": []
  }
 ],
 "metadata": {
  "kernelspec": {
   "display_name": "Python 3",
   "language": "python",
   "name": "python3"
  },
  "language_info": {
   "codemirror_mode": {
    "name": "ipython",
    "version": 3
   },
   "file_extension": ".py",
   "mimetype": "text/x-python",
   "name": "python",
   "nbconvert_exporter": "python",
   "pygments_lexer": "ipython3",
   "version": "3.6.8"
  }
 },
 "nbformat": 4,
 "nbformat_minor": 2
}
