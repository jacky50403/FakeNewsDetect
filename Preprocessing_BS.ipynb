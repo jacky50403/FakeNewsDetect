{
 "cells": [
  {
   "cell_type": "code",
   "execution_count": 1,
   "metadata": {},
   "outputs": [],
   "source": [
    "# %load Preprocessing_BS.py\n",
    "\n",
    "import pandas as pd\n",
    "from nltk.corpus import stopwords\n",
    "from nltk.stem import PorterStemmer\n",
    "from nltk.tokenize import word_tokenize\n",
    "import string"
   ]
  },
  {
   "cell_type": "code",
   "execution_count": 2,
   "metadata": {},
   "outputs": [],
   "source": [
    "bs_fake = pd.read_csv(\"./Dataset/BS_FakeNews/fake.csv\")"
   ]
  },
  {
   "cell_type": "code",
   "execution_count": 3,
   "metadata": {},
   "outputs": [],
   "source": [
    "bs_fake[\"text\"] = bs_fake[\"text\"].str.lower()\n",
    "bs_fake[\"text\"] = bs_fake[\"text\"].str.replace(\"\\d+\" , \"\")\n",
    "bs_fake[\"text\"] = bs_fake[\"text\"].str.replace(\"[^\\w\\s]\" , \"\")"
   ]
  },
  {
   "cell_type": "code",
   "execution_count": 4,
   "metadata": {},
   "outputs": [],
   "source": [
    "#stop = set(stopwords.words('english'))\n",
    "\n",
    "\n",
    "bs_fake['text'] = bs_fake['text'].fillna(\" \")\n",
    "\n",
    "#bs_fake['text'].isnull().sum()"
   ]
  },
  {
   "cell_type": "code",
   "execution_count": 5,
   "metadata": {},
   "outputs": [],
   "source": [
    "stop = stopwords.words('english')\n",
    "\n",
    "pat = r'\\b(?:{})\\b'.format('|'.join(stop))\n",
    "#print(pat)\n",
    "bs_fake['text'] = bs_fake['text'].str.replace(pat, '')"
   ]
  },
  {
   "cell_type": "code",
   "execution_count": 6,
   "metadata": {},
   "outputs": [],
   "source": [
    "#bs_fake[\"text\"].apply(lambda x: [item for item in x if item not in stop])\n",
    "\n",
    "ps = PorterStemmer()\n",
    "\n",
    "def stem_sentence(sentence):\n",
    "    tokens = sentence.split()\n",
    "    stemmed_tokens = [ps.stem(token) for token in tokens]\n",
    "    return \" \".join(stemmed_tokens)\n",
    "\n",
    "bs_fake[\"text\"] = bs_fake[\"text\"].apply(stem_sentence)\n",
    "\n",
    "#bs_fake[\"text\"] = bs_fake.apply(lambda row : word_tokenize(row[\"text\"]) , axis = 1)"
   ]
  },
  {
   "cell_type": "code",
   "execution_count": 7,
   "metadata": {},
   "outputs": [
    {
     "data": {
      "text/plain": [
       "type\n",
       "bias            443\n",
       "bs            11492\n",
       "conspiracy      430\n",
       "fake             19\n",
       "hate            246\n",
       "junksci         102\n",
       "satire          146\n",
       "state           121\n",
       "dtype: int64"
      ]
     },
     "execution_count": 7,
     "metadata": {},
     "output_type": "execute_result"
    }
   ],
   "source": [
    "#(bs_fake[\"type\"] == \"True\").sum()\n",
    "\n",
    "\n",
    "bs_dictionary = {\"bias\" : 0 , \n",
    "                 \"conspiracy\" : 1 , \n",
    "                 \"fake\" : 2 , \n",
    "                 \"hate\" : 3 , \n",
    "                 \"junksci\" : 4 , \n",
    "                 \"satire\" : 5 , \n",
    "                 \"state\" : 6}\n",
    "\n",
    "\n",
    "bs_fake.groupby(\"type\").size()"
   ]
  },
  {
   "cell_type": "code",
   "execution_count": 8,
   "metadata": {},
   "outputs": [
    {
     "name": "stderr",
     "output_type": "stream",
     "text": [
      "/home/alfred/anaconda3/envs/my_env/lib/python3.6/site-packages/ipykernel_launcher.py:7: SettingWithCopyWarning: \n",
      "A value is trying to be set on a copy of a slice from a DataFrame.\n",
      "Try using .loc[row_indexer,col_indexer] = value instead\n",
      "\n",
      "See the caveats in the documentation: http://pandas.pydata.org/pandas-docs/stable/indexing.html#indexing-view-versus-copy\n",
      "  import sys\n"
     ]
    }
   ],
   "source": [
    "bs_test = bs_fake[bs_fake[\"type\"] == \"bs\"]\n",
    "\n",
    "\n",
    "bs_train = bs_fake[bs_fake[\"type\"] != \"bs\"]\n",
    "\n",
    "\n",
    "bs_train[\"type\"] = bs_train[\"type\"].map(bs_dictionary)\n",
    "bs_fake[\"type\"] = bs_fake[\"type\"].map(bs_dictionary)"
   ]
  },
  {
   "cell_type": "code",
   "execution_count": 9,
   "metadata": {},
   "outputs": [],
   "source": [
    "bs_fake.to_csv(\"./Dataset/BS_FakeNews/bs_fake.csv\")\n",
    "bs_train.to_csv(\"./Dataset/BS_FakeNews/bs_train.csv\")\n",
    "bs_test.to_csv(\"./Dataset/BS_FakeNews/bs_test.csv\")"
   ]
  }
 ],
 "metadata": {
  "kernelspec": {
   "display_name": "Python 3",
   "language": "python",
   "name": "python3"
  },
  "language_info": {
   "codemirror_mode": {
    "name": "ipython",
    "version": 3
   },
   "file_extension": ".py",
   "mimetype": "text/x-python",
   "name": "python",
   "nbconvert_exporter": "python",
   "pygments_lexer": "ipython3",
   "version": "3.6.8"
  }
 },
 "nbformat": 4,
 "nbformat_minor": 2
}
